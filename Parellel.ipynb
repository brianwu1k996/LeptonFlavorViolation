{
 "cells": [
  {
   "cell_type": "code",
   "execution_count": 4,
   "metadata": {},
   "outputs": [],
   "source": [
    "import os \n",
    "import numpy as np"
   ]
  },
  {
   "cell_type": "code",
   "execution_count": 35,
   "metadata": {},
   "outputs": [],
   "source": [
    "# Scanning g vs g\n",
    "scen = 3\n",
    "mX = 0.005\n",
    "\n",
    "basesX=(1, 1.5, 2, 3, 4, 6, 8)\n",
    "expX=range(-12,-5)\n",
    "\n",
    "expX_0=range(5,12)\n",
    "expX_1=range(1,9)\n",
    "expX_2=range(5,12)\n",
    "expX_3=range(1,9)\n",
    "expX_4=range(5,12)\n",
    "\n",
    "basesY=(1, 1.5, 2, 3, 4, 6, 8)\n",
    "expY=range(-10,-6)\n",
    "\n",
    "g_CCRun = [ba*10**exp for ba in basesX for exp in expX]\n",
    "g_ABRun = [ba*10**exp for ba in basesY for exp in expY]\n",
    "\n",
    "np.savez_compressed(\"./storage/g_g_rangeX\", expX_0=expX_0, expX_1=expX_1, expX_2=expX_2, expX_3=expX_3, expX_4=expX_4)\n",
    "\n",
    "nMC = 10000"
   ]
  },
  {
   "cell_type": "code",
   "execution_count": 36,
   "metadata": {},
   "outputs": [],
   "source": [
    "data = np.load(\"./storage/g_g_rangeX.npz\")\n",
    "\n",
    "g_CCRun = [ba/10**exp for ba in basesX for exp in data[\"expX_\"+str(scen)]]\n",
    "g_ABRun = [ba*10**exp for ba in basesY for exp in expY]"
   ]
  },
  {
   "cell_type": "code",
   "execution_count": 37,
   "metadata": {},
   "outputs": [
    {
     "name": "stdout",
     "output_type": "stream",
     "text": [
      "<class 'str'>\n",
      "[1 2 3 4 5 6 7 8]\n",
      "[1, 2, 3, 4, 5, 6, 7, 8]\n",
      "<class 'numpy.ndarray'>\n"
     ]
    }
   ],
   "source": [
    "print(type(\"expX_\"+str(scen)))\n",
    "print(data[\"expX_\"+str(scen)])\n",
    "print(list(data[\"expX_\"+str(scen)]))\n",
    "print(type(data[\"expX_\"+str(scen)]))"
   ]
  },
  {
   "cell_type": "code",
   "execution_count": 38,
   "metadata": {},
   "outputs": [],
   "source": [
    "#len(g_CCRun), len(g_ABRun)"
   ]
  },
  {
   "cell_type": "code",
   "execution_count": 39,
   "metadata": {},
   "outputs": [],
   "source": [
    "#g_CCRun, g_ABRun"
   ]
  },
  {
   "cell_type": "code",
   "execution_count": 40,
   "metadata": {},
   "outputs": [],
   "source": [
    "for gAB in g_ABRun:\n",
    "    for gCC in g_CCRun:\n",
    "        os.system(\"nohup ./main \"+str(scen)+\" \"+str(mX)+\" \"+str(gAB)+\" \"+str(gCC)+\" \"+str(nMC)+\" > ./storage/results_g_g_\"+str(scen)+\"/out_\"+str(mX)+\"_\"+str(gAB)+\"_\"+str(gCC)+\".out 2>&1 &\")"
   ]
  },
  {
   "cell_type": "code",
   "execution_count": 26,
   "metadata": {},
   "outputs": [],
   "source": [
    "import re"
   ]
  },
  {
   "cell_type": "code",
   "execution_count": 30,
   "metadata": {},
   "outputs": [],
   "source": [
    "user_input = './scanning/'\n",
    "directory = os.listdir(user_input)\n",
    "gTEs = []\n",
    "gEEs = []\n",
    "Z = []\n",
    "for s in directory :\n",
    "    gTE = re.search('g_TE_(.*)_g_MM', s)\n",
    "    gEE = re.search('g_EE_(.*).txt', s)\n",
    "    \n",
    "    if gTE:\n",
    "        gTEs.append(gTE.group(1))\n",
    "        f = open(user_input +s, 'r')\n",
    "        z = f.read()\n",
    "        Z.append(float(z)/nMC)\n",
    "    if gEE:\n",
    "        gEEs.append(gEE.group(1))\n",
    "gTEs = [float(s) for s in gTEs]\n",
    "gEEs = [float(s) for s in gEEs]\n",
    "\n",
    "    \n",
    "# searchstring = input('What word are you trying to find?')"
   ]
  },
  {
   "cell_type": "code",
   "execution_count": 31,
   "metadata": {},
   "outputs": [
    {
     "data": {
      "text/plain": [
       "(900, 900)"
      ]
     },
     "execution_count": 31,
     "metadata": {},
     "output_type": "execute_result"
    }
   ],
   "source": [
    "len(gTEs),len(gEEs)"
   ]
  },
  {
   "cell_type": "code",
   "execution_count": 32,
   "metadata": {},
   "outputs": [
    {
     "data": {
      "text/plain": [
       "900"
      ]
     },
     "execution_count": 32,
     "metadata": {},
     "output_type": "execute_result"
    }
   ],
   "source": [
    "len(Z)"
   ]
  },
  {
   "cell_type": "code",
   "execution_count": 33,
   "metadata": {},
   "outputs": [],
   "source": [
    "import numpy as np\n",
    "import matplotlib.pyplot as plt\n",
    "\n",
    "from matplotlib.colors import LogNorm"
   ]
  },
  {
   "cell_type": "code",
   "execution_count": 42,
   "metadata": {},
   "outputs": [
    {
     "data": {
      "image/png": "[encoded data removed]",
      "text/plain": [
       "<Figure size 576x576 with 2 Axes>"
      ]
     },
     "metadata": {
      "needs_background": "light"
     },
     "output_type": "display_data"
    }
   ],
   "source": [
    "plt.figure( figsize=(8,8))\n",
    "x_list = np.array(gTEs)\n",
    "y_list = np.array(gEEs)\n",
    "z_list = np.array(Z)\n",
    "#z_list = np.log(z_list+1)\n",
    "\n",
    "Nz = int(len(z_list)**.5)\n",
    "z = z_list.reshape(Nz, Nz)\n",
    "plt.imshow(z, extent=(np.amin(x_list), np.amax(x_list), np.amin(y_list),\n",
    "                      np.amax(y_list)),  aspect = 'auto', cmap='Blues') #norm=LogNorm(),\n",
    "plt.colorbar()\n",
    "plt.savefig(\"./figure/\" +str(N*N)+ \"_range_\"+str(g_EE_Lamb)+\".png\")\n",
    "plt.show()"
   ]
  },
  {
   "cell_type": "code",
   "execution_count": 10,
   "metadata": {},
   "outputs": [],
   "source": [
    "#plt.contourf(gTEs, gEEs, Z)"
   ]
  },
  {
   "cell_type": "code",
   "execution_count": 47,
   "metadata": {},
   "outputs": [],
   "source": [
    "import os \n",
    "import numpy as np"
   ]
  },
  {
   "cell_type": "code",
   "execution_count": 255,
   "metadata": {},
   "outputs": [],
   "source": [
    "# Scanning g vs m\n",
    "scen = 0\n",
    "\n",
    "basesX_0=(0.001, 1.85)\n",
    "basesX_1=(0.001, 1.85)\n",
    "basesX_2=(0.1, 1.85)\n",
    "basesX_3=(0.001, 1.75)\n",
    "basesX_4=(0.1, 1.85)\n",
    "\n",
    "total_list = [basesX_0,basesX_1,basesX_2,basesX_3,basesX_4]\n",
    "\n",
    "basesY=(1, 1.5, 2, 3, 4, 6, 8)\n",
    "expY=range(-9,-1)\n",
    "\n",
    "np.savez_compressed(\"./storage/g_m_rangeX\",basesX_0=basesX_0, basesX_1=basesX_1, basesX_2=basesX_2, basesX_3=basesX_3, basesX_4=basesX_4)\n",
    "\n",
    "nMC = 10000"
   ]
  },
  {
   "cell_type": "code",
   "execution_count": 256,
   "metadata": {},
   "outputs": [
    {
     "name": "stdout",
     "output_type": "stream",
     "text": [
      "['basesX_0', 'basesX_1', 'basesX_2', 'basesX_3', 'basesX_4']\n",
      "<class 'list'>\n",
      "0.001\n",
      "[1.00e-03 1.85e+00]\n",
      "0.001\n",
      "<class 'numpy.ndarray'>\n",
      "<class 'numpy.float64'>\n",
      "basesX_0\n",
      "<class 'str'>\n"
     ]
    },
    {
     "data": {
      "text/plain": [
       "(2,)"
      ]
     },
     "execution_count": 256,
     "metadata": {},
     "output_type": "execute_result"
    }
   ],
   "source": [
    "data = np.load(\"./storage/g_m_rangeX.npz\")\n",
    "\n",
    "print(data.files)\n",
    "print(type(data.files))\n",
    "\n",
    "print(total_list[0][0]) #not a readible form\n",
    "print(data[\"basesX_\"+str(scen)])\n",
    "print(data[\"basesX_\"+str(scen)][0])\n",
    "print(type(data[\"basesX_\"+str(scen)]))\n",
    "print(type(data[\"basesX_\"+str(scen)][0]))\n",
    "\n",
    "print(\"basesX_\"+str(scen)) #not a variable, but a string\n",
    "print(type(\"basesX_\"+str(scen)))\n",
    "\n",
    "data[\"basesX_\"+str(scen)].shape"
   ]
  },
  {
   "cell_type": "code",
   "execution_count": 257,
   "metadata": {},
   "outputs": [],
   "source": [
    "m_Run = np.linspace(data[\"basesX_\"+str(scen)][0],data[\"basesX_\"+str(scen)][1],30)\n",
    "m_Add = np.linspace(m_Run[0],m_Run[1],30)\n",
    "m_Run = list(m_Run) + list(m_Add)\n",
    "g_Run = [ba*10**exp for ba in basesY for exp in expY]"
   ]
  },
  {
   "cell_type": "code",
   "execution_count": 258,
   "metadata": {},
   "outputs": [],
   "source": [
    "#m_Run, g_Run"
   ]
  },
  {
   "cell_type": "code",
   "execution_count": 259,
   "metadata": {},
   "outputs": [],
   "source": [
    "for g in g_Run:\n",
    "    for m in m_Run:\n",
    "        os.system(\"nohup ./main \"+str(scen)+\" \"+str(m)+\" \"+str(g)+\" \"+str(g)+\" \"+str(nMC)+\" > ./storage/result_g_m_\"+str(scen)+\"/out_\"+str(m)+\"_\"+str(g)+\".out 2>&1 &\")"
   ]
  },
  {
   "cell_type": "code",
   "execution_count": null,
   "metadata": {},
   "outputs": [],
   "source": [
    "# "
   ]
  }
 ],
 "metadata": {
  "kernelspec": {
   "display_name": "Python 3",
   "language": "python",
   "name": "python3"
  },
  "language_info": {
   "codemirror_mode": {
    "name": "ipython",
    "version": 3
   },
   "file_extension": ".py",
   "mimetype": "text/x-python",
   "name": "python",
   "nbconvert_exporter": "python",
   "pygments_lexer": "ipython3",
   "version": "3.8.5"
  }
 },
 "nbformat": 4,
 "nbformat_minor": 4
}
