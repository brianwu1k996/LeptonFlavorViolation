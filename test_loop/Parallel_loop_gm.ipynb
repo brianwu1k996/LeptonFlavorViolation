{
 "cells": [
  {
   "cell_type": "markdown",
   "metadata": {},
   "source": [
    "# Scanning g vs m _ loop"
   ]
  },
  {
   "cell_type": "code",
   "execution_count": 1,
   "metadata": {},
   "outputs": [],
   "source": [
    "import os \n",
    "import numpy as np"
   ]
  },
  {
   "cell_type": "code",
   "execution_count": 6,
   "metadata": {},
   "outputs": [],
   "source": [
    "# Scanning g vs m\n",
    "scen = 0\n",
    "\n",
    "basesX_0=(0.001, 1.85)\n",
    "basesX_1=(0.001, 1.85)\n",
    "basesX_2=(0.1, 1.85)\n",
    "basesX_3=(0.001, 1.75)\n",
    "basesX_4=(0.1, 1.85)\n",
    "\n",
    "total_list = [basesX_0,basesX_1,basesX_2,basesX_3,basesX_4]\n",
    "\n",
    "basesY=(1, 1.5, 2, 3, 4, 6, 8)\n",
    "expY=range(-9,-1)\n",
    "\n",
    "np.savez_compressed(\"./storage/g_m_rangeX\",basesX_0=basesX_0, basesX_1=basesX_1, basesX_2=basesX_2, basesX_3=basesX_3, basesX_4=basesX_4)\n",
    "\n",
    "nMC = 3000000"
   ]
  },
  {
   "cell_type": "code",
   "execution_count": 7,
   "metadata": {},
   "outputs": [
    {
     "name": "stdout",
     "output_type": "stream",
     "text": [
      "['basesX_0', 'basesX_1', 'basesX_2', 'basesX_3', 'basesX_4']\n",
      "<class 'list'>\n",
      "0.001\n",
      "[1.00e-03 1.85e+00]\n",
      "0.001\n",
      "<class 'numpy.ndarray'>\n",
      "<class 'numpy.float64'>\n",
      "basesX_0\n",
      "<class 'str'>\n"
     ]
    },
    {
     "data": {
      "text/plain": [
       "(2,)"
      ]
     },
     "execution_count": 7,
     "metadata": {},
     "output_type": "execute_result"
    }
   ],
   "source": [
    "data = np.load(\"./storage/g_m_rangeX.npz\")\n",
    "\n",
    "print(data.files)\n",
    "print(type(data.files))\n",
    "\n",
    "print(total_list[0][0]) #not a readible form\n",
    "print(data[\"basesX_\"+str(scen)])\n",
    "print(data[\"basesX_\"+str(scen)][0])\n",
    "print(type(data[\"basesX_\"+str(scen)]))\n",
    "print(type(data[\"basesX_\"+str(scen)][0]))\n",
    "\n",
    "print(\"basesX_\"+str(scen)) #not a variable, but a string\n",
    "print(type(\"basesX_\"+str(scen)))\n",
    "\n",
    "data[\"basesX_\"+str(scen)].shape"
   ]
  },
  {
   "cell_type": "code",
   "execution_count": 8,
   "metadata": {},
   "outputs": [],
   "source": [
    "m_Run = np.linspace(data[\"basesX_\"+str(scen)][0],data[\"basesX_\"+str(scen)][1],30)\n",
    "m_Add = np.linspace(m_Run[0],m_Run[1],30)\n",
    "m_Run = list(m_Run) + list(m_Add)\n",
    "g_Run = [ba*10**exp for ba in basesY for exp in expY]"
   ]
  },
  {
   "cell_type": "code",
   "execution_count": 9,
   "metadata": {},
   "outputs": [],
   "source": [
    "#m_Run, g_Run"
   ]
  },
  {
   "cell_type": "code",
   "execution_count": 10,
   "metadata": {},
   "outputs": [],
   "source": [
    "for g in g_Run:\n",
    "    for m in m_Run:\n",
    "        os.system(\"nohup ./main \"+str(scen)+\" \"+str(m)+\" \"+str(g)+\" \"+str(g)+\" \"+str(nMC)+\" > ./storage/result_g_m_\"+str(scen)+\"/out_\"+str(m)+\"_\"+str(g)+\".out 2>&1 &\")"
   ]
  },
  {
   "cell_type": "code",
   "execution_count": null,
   "metadata": {},
   "outputs": [],
   "source": [
    "#test for d0z0\n"
   ]
  },
  {
   "cell_type": "code",
   "execution_count": null,
   "metadata": {},
   "outputs": [],
   "source": []
  },
  {
   "cell_type": "code",
   "execution_count": null,
   "metadata": {},
   "outputs": [],
   "source": []
  },
  {
   "cell_type": "code",
   "execution_count": null,
   "metadata": {},
   "outputs": [],
   "source": []
  },
  {
   "cell_type": "code",
   "execution_count": null,
   "metadata": {},
   "outputs": [],
   "source": []
  }
 ],
 "metadata": {
  "kernelspec": {
   "display_name": "Python 3",
   "language": "python",
   "name": "python3"
  },
  "language_info": {
   "codemirror_mode": {
    "name": "ipython",
    "version": 3
   },
   "file_extension": ".py",
   "mimetype": "text/x-python",
   "name": "python",
   "nbconvert_exporter": "python",
   "pygments_lexer": "ipython3",
   "version": "3.8.5"
  }
 },
 "nbformat": 4,
 "nbformat_minor": 4
}
