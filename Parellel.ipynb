{
 "cells": [
  {
   "cell_type": "code",
   "execution_count": 2,
   "metadata": {},
   "outputs": [],
   "source": [
    "import os \n",
    "import numpy as np"
   ]
  },
  {
   "cell_type": "code",
   "execution_count": 3,
   "metadata": {},
   "outputs": [],
   "source": [
    "scen = 1\n",
    "mX = 1\n",
    "g_TauEleOverLamb  = (1e-3, 1e-6)\n",
    "g_EleEleOverLamb  = (1e-3, 1e-6)\n",
    "N = 10\n",
    "nMC = 10000"
   ]
  },
  {
   "cell_type": "code",
   "execution_count": 5,
   "metadata": {},
   "outputs": [],
   "source": [
    "g_TERun  = np.linspace(g_TauEleOverLamb[0], g_TauEleOverLamb[1], num = N)\n",
    "g_EERun  = np.linspace(g_EleEleOverLamb [0], g_EleEleOverLamb [1], num = N)"
   ]
  },
  {
   "cell_type": "code",
   "execution_count": 6,
   "metadata": {},
   "outputs": [
    {
     "data": {
      "text/plain": [
       "(array([1.00e-03, 8.89e-04, 7.78e-04, 6.67e-04, 5.56e-04, 4.45e-04,\n",
       "        3.34e-04, 2.23e-04, 1.12e-04, 1.00e-06]),\n",
       " array([1.00e-03, 8.89e-04, 7.78e-04, 6.67e-04, 5.56e-04, 4.45e-04,\n",
       "        3.34e-04, 2.23e-04, 1.12e-04, 1.00e-06]))"
      ]
     },
     "execution_count": 6,
     "metadata": {},
     "output_type": "execute_result"
    }
   ],
   "source": [
    "g_TERun, g_EERun"
   ]
  },
  {
   "cell_type": "code",
   "execution_count": null,
   "metadata": {},
   "outputs": [],
   "source": [
    "for gTE in g_TERun:\n",
    "    for gEE in g_EERun:\n",
    "        os.sys(\"nohup ./main \"+str(scen)+\" \"+str(mX)+\" \"+str(gTE)+\" \"+str(gEE)+\" \"+str(nMC)+\" > out_\"+str(gTE)+\"_\"+str(gEE)+\".out 2>&1 \")"
   ]
  },
  {
   "cell_type": "code",
   "execution_count": null,
   "metadata": {},
   "outputs": [],
   "source": []
  },
  {
   "cell_type": "code",
   "execution_count": null,
   "metadata": {},
   "outputs": [],
   "source": []
  },
  {
   "cell_type": "code",
   "execution_count": null,
   "metadata": {},
   "outputs": [],
   "source": []
  }
 ],
 "metadata": {
  "kernelspec": {
   "display_name": "Python 3",
   "language": "python",
   "name": "python3"
  },
  "language_info": {
   "codemirror_mode": {
    "name": "ipython",
    "version": 3
   },
   "file_extension": ".py",
   "mimetype": "text/x-python",
   "name": "python",
   "nbconvert_exporter": "python",
   "pygments_lexer": "ipython3",
   "version": "3.6.9"
  }
 },
 "nbformat": 4,
 "nbformat_minor": 4
}
