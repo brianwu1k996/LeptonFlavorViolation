{
 "cells": [
  {
   "cell_type": "markdown",
   "metadata": {},
   "source": [
    "# Scanning g vs g _ loop"
   ]
  },
  {
   "cell_type": "code",
   "execution_count": 39,
   "metadata": {},
   "outputs": [],
   "source": [
    "import os \n",
    "import numpy as np"
   ]
  },
  {
   "cell_type": "code",
   "execution_count": 46,
   "metadata": {},
   "outputs": [],
   "source": [
    "# Scanning g vs g\n",
    "scen = 0\n",
    "\n",
    "# different scenario with different m_min, m_med, m_max\n",
    "mX_0 = [0.5, 1.0, 1.5]\n",
    "mX_1 = [0.005, 0.05, 1.5]\n",
    "mX_2 = [0.5, 1.0, 1.5]\n",
    "mX_3 = [0.005, 0.05, 1.5]\n",
    "mX_4 = [0.5, 1.0, 1.5]\n",
    "\n",
    "basesX=(1, 1.5, 2, 3, 4, 6, 8)\n",
    "expX=range(-11,-4)\n",
    "\n",
    "expX_0=range(10,11)\n",
    "expX_1=range(1,9)\n",
    "expX_2=range(4,11)\n",
    "expX_3=range(1,9)\n",
    "expX_4=range(4,11)\n",
    "\n",
    "basesY=(1, 1.5, 2, 3, 4, 6, 8)\n",
    "expY=range(-12,-6)\n",
    "\n",
    "g_CCRun = [ba*10**exp for ba in basesX for exp in expX]\n",
    "g_ABRun = [ba*10**exp for ba in basesY for exp in expY]\n",
    "\n",
    "np.savez_compressed(\"./storage/g_g_rangeM\", mX_0=mX_0, mX_1=mX_1, mX_2=mX_2, mX_3=mX_3, mX_4=mX_4)\n",
    "np.savez_compressed(\"./storage/g_g_rangeX\", expX_0=expX_0, expX_1=expX_1, expX_2=expX_2, expX_3=expX_3, expX_4=expX_4)\n",
    "\n",
    "nMC = 3000000"
   ]
  },
  {
   "cell_type": "code",
   "execution_count": 47,
   "metadata": {},
   "outputs": [],
   "source": [
    "data = np.load(\"./storage/g_g_rangeM.npz\")\n",
    "mX_Run = [mX for mX in data[\"mX_\"+str(scen)]]\n",
    "\n",
    "data = np.load(\"./storage/g_g_rangeX.npz\")\n",
    "g_CCRun = [ba/10**exp for ba in basesX for exp in data[\"expX_\"+str(scen)]]\n",
    "g_ABRun = [ba*10**exp for ba in basesY for exp in expY]"
   ]
  },
  {
   "cell_type": "code",
   "execution_count": 48,
   "metadata": {},
   "outputs": [
    {
     "name": "stdout",
     "output_type": "stream",
     "text": [
      "<class 'str'>\n",
      "[10]\n",
      "[10]\n",
      "<class 'numpy.ndarray'>\n"
     ]
    }
   ],
   "source": [
    "print(type(\"expX_\"+str(scen)))\n",
    "print(data[\"expX_\"+str(scen)])\n",
    "print(list(data[\"expX_\"+str(scen)]))\n",
    "print(type(data[\"expX_\"+str(scen)]))"
   ]
  },
  {
   "cell_type": "code",
   "execution_count": 49,
   "metadata": {},
   "outputs": [],
   "source": [
    "#mX_Run\n",
    "#g_CCRun, g_ABRun"
   ]
  },
  {
   "cell_type": "code",
   "execution_count": 50,
   "metadata": {},
   "outputs": [],
   "source": [
    "import time"
   ]
  },
  {
   "cell_type": "code",
   "execution_count": 51,
   "metadata": {},
   "outputs": [
    {
     "name": "stdout",
     "output_type": "stream",
     "text": [
      "Running the scanning in 19.0223 seconds\n"
     ]
    }
   ],
   "source": [
    "tic = time.perf_counter()\n",
    "\n",
    "#mX = 0.5\n",
    "for mX in mX_Run:\n",
    "    for gAB in g_ABRun:\n",
    "        for gCC in g_CCRun:\n",
    "            os.system(\"nohup ./main \"+str(scen)+\" \"+str(mX)+\" \"+str(gAB)+\" \"+str(gCC)+\" \"+str(nMC)+\" > ./storage/results_g_g_\"+str(scen)+\"/out_\"+str(mX)+\"_\"+str(gAB)+\"_\"+str(gCC)+\".out 2>&1 &\")\n",
    "\n",
    "toc = time.perf_counter()\n",
    "\n",
    "print(f\"Running the scanning in {toc - tic:0.4f} seconds\")"
   ]
  },
  {
   "cell_type": "code",
   "execution_count": 38,
   "metadata": {},
   "outputs": [],
   "source": [
    "#1M_5hr\n",
    "#3M_17hr\n",
    "#1550"
   ]
  },
  {
   "cell_type": "code",
   "execution_count": null,
   "metadata": {},
   "outputs": [],
   "source": []
  }
 ],
 "metadata": {
  "kernelspec": {
   "display_name": "Python 3",
   "language": "python",
   "name": "python3"
  },
  "language_info": {
   "codemirror_mode": {
    "name": "ipython",
    "version": 3
   },
   "file_extension": ".py",
   "mimetype": "text/x-python",
   "name": "python",
   "nbconvert_exporter": "python",
   "pygments_lexer": "ipython3",
   "version": "3.8.5"
  }
 },
 "nbformat": 4,
 "nbformat_minor": 4
}
