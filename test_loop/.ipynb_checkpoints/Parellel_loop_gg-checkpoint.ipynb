{
 "cells": [
  {
   "cell_type": "markdown",
   "metadata": {},
   "source": [
    "# Scanning g vs g _ loop"
   ]
  },
  {
   "cell_type": "code",
   "execution_count": 4,
   "metadata": {},
   "outputs": [],
   "source": [
    "import os \n",
    "import numpy as np"
   ]
  },
  {
   "cell_type": "code",
   "execution_count": 11,
   "metadata": {},
   "outputs": [],
   "source": [
    "# Scanning g vs g\n",
    "scen = 0\n",
    "\n",
    "# different scenario with different m_min, m_med, m_max\n",
    "mX_0 = [0.5, 1.0, 1.5]\n",
    "mX_1 = [0.005, 0.05, 1.5]\n",
    "mX_2 = [0.5, 1.0, 1.5]\n",
    "mX_3 = [0.005, 0.05, 1.5]\n",
    "mX_4 = [0.5, 1.0, 1.5]\n",
    "\n",
    "basesX=(1, 1.5, 2, 3, 4, 6, 8)\n",
    "expX=range(-12,-5)\n",
    "\n",
    "expX_0=range(5,12)\n",
    "expX_1=range(1,9)\n",
    "expX_2=range(5,12)\n",
    "expX_3=range(1,9)\n",
    "expX_4=range(5,12)\n",
    "\n",
    "basesY=(1, 1.5, 2, 3, 4, 6, 8)\n",
    "expY=range(-10,-6)\n",
    "\n",
    "g_CCRun = [ba*10**exp for ba in basesX for exp in expX]\n",
    "g_ABRun = [ba*10**exp for ba in basesY for exp in expY]\n",
    "\n",
    "np.savez_compressed(\"./storage/g_g_rangeM\", mX_0=mX_0, mX_1=mX_1, mX_2=mX_2, mX_3=mX_3, mX_4=mX_4)\n",
    "np.savez_compressed(\"./storage/g_g_rangeX\", expX_0=expX_0, expX_1=expX_1, expX_2=expX_2, expX_3=expX_3, expX_4=expX_4)\n",
    "\n",
    "nMC = 3000000"
   ]
  },
  {
   "cell_type": "code",
   "execution_count": 12,
   "metadata": {},
   "outputs": [],
   "source": [
    "data = np.load(\"./storage/g_g_rangeM.npz\")\n",
    "mX_Run = [mX for mX in data[\"mX_\"+str(scen)]]\n",
    "\n",
    "data = np.load(\"./storage/g_g_rangeX.npz\")\n",
    "g_CCRun = [ba/10**exp for ba in basesX for exp in data[\"expX_\"+str(scen)]]\n",
    "g_ABRun = [ba*10**exp for ba in basesY for exp in expY]"
   ]
  },
  {
   "cell_type": "code",
   "execution_count": 13,
   "metadata": {},
   "outputs": [
    {
     "name": "stdout",
     "output_type": "stream",
     "text": [
      "<class 'str'>\n",
      "[ 5  6  7  8  9 10 11]\n",
      "[5, 6, 7, 8, 9, 10, 11]\n",
      "<class 'numpy.ndarray'>\n"
     ]
    }
   ],
   "source": [
    "print(type(\"expX_\"+str(scen)))\n",
    "print(data[\"expX_\"+str(scen)])\n",
    "print(list(data[\"expX_\"+str(scen)]))\n",
    "print(type(data[\"expX_\"+str(scen)]))"
   ]
  },
  {
   "cell_type": "code",
   "execution_count": 14,
   "metadata": {},
   "outputs": [],
   "source": [
    "#mX_Run\n",
    "#g_CCRun, g_ABRun"
   ]
  },
  {
   "cell_type": "code",
   "execution_count": 15,
   "metadata": {},
   "outputs": [],
   "source": [
    "import time"
   ]
  },
  {
   "cell_type": "code",
   "execution_count": 16,
   "metadata": {},
   "outputs": [
    {
     "name": "stdout",
     "output_type": "stream",
     "text": [
      "Running the scanning in 349.3896 seconds\n"
     ]
    }
   ],
   "source": [
    "tic = time.perf_counter()\n",
    "\n",
    "#mX = 0.5\n",
    "for mX in mX_Run:\n",
    "    for gAB in g_ABRun:\n",
    "        for gCC in g_CCRun:\n",
    "            os.system(\"nohup ./main \"+str(scen)+\" \"+str(mX)+\" \"+str(gAB)+\" \"+str(gCC)+\" \"+str(nMC)+\" > ./storage/results_g_g_\"+str(scen)+\"/out_\"+str(mX)+\"_\"+str(gAB)+\"_\"+str(gCC)+\".out 2>&1 &\")\n",
    "\n",
    "toc = time.perf_counter()\n",
    "\n",
    "print(f\"Running the scanning in {toc - tic:0.4f} seconds\")"
   ]
  },
  {
   "cell_type": "code",
   "execution_count": null,
   "metadata": {},
   "outputs": [],
   "source": [
    "#1M_1530_2030_5hr\n",
    "#3M_2100_1400 17hr"
   ]
  },
  {
   "cell_type": "code",
   "execution_count": 22,
   "metadata": {},
   "outputs": [
    {
     "data": {
      "image/png": "[encoded data removed]",
      "text/plain": [
       "<Figure size 432x288 with 1 Axes>"
      ]
     },
     "metadata": {
      "needs_background": "light"
     },
     "output_type": "display_data"
    }
   ],
   "source": [
    "\n",
    "import numpy as np\n",
    "import matplotlib.pyplot as plt\n",
    "\n",
    "# Make some fake data.\n",
    "a = b = np.arange(0, 3, .02)\n",
    "c = np.exp(a)\n",
    "d = c[::-1]\n",
    "\n",
    "# Create plots with pre-defined labels.\n",
    "fig, ax = plt.subplots()\n",
    "ax.plot(a, c, 'k--', label='Model length')\n",
    "ax.plot(a, d, 'k:', label='Data length')\n",
    "ax.plot(a, c + d, 'k', label='Total message length')\n",
    "\n",
    "legend = ax.legend(loc='upper center', shadow=True, fontsize='x-large')\n",
    "\n",
    "# Put a nicer background color on the legend.\n",
    "\n",
    "\n",
    "plt.show()\n"
   ]
  },
  {
   "cell_type": "code",
   "execution_count": null,
   "metadata": {},
   "outputs": [],
   "source": []
  }
 ],
 "metadata": {
  "kernelspec": {
   "display_name": "Python 3",
   "language": "python",
   "name": "python3"
  },
  "language_info": {
   "codemirror_mode": {
    "name": "ipython",
    "version": 3
   },
   "file_extension": ".py",
   "mimetype": "text/x-python",
   "name": "python",
   "nbconvert_exporter": "python",
   "pygments_lexer": "ipython3",
   "version": "3.8.5"
  }
 },
 "nbformat": 4,
 "nbformat_minor": 4
}
